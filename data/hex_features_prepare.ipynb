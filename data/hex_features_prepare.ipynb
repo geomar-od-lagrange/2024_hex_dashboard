{
 "cells": [
  {
   "cell_type": "code",
   "execution_count": 1,
   "metadata": {},
   "outputs": [
    {
     "name": "stderr",
     "output_type": "stream",
     "text": [
      "/home/fkirch/anaconda3/lib/python3.11/site-packages/hextraj/redblobhex_array.py:8: RuntimeWarning: invalid value encountered in cast\n",
      "  INTNaN = np.array(np.nan).astype(int)[()]\n"
     ]
    }
   ],
   "source": [
    "import numpy as np\n",
    "import geopandas as gpd\n",
    "import xarray as xr\n",
    "import shapely\n",
    "import random\n",
    "from hextraj import HexProj"
   ]
  },
  {
   "cell_type": "code",
   "execution_count": 2,
   "metadata": {},
   "outputs": [],
   "source": [
    "ds_traj = xr.open_dataset(\"nwshelf.nc\")"
   ]
  },
  {
   "cell_type": "code",
   "execution_count": 3,
   "metadata": {},
   "outputs": [],
   "source": [
    "lat_range = [46.0, 64.0]\n",
    "lon_range = [-15, 10]\n",
    "n_hex = 10\n",
    "hex_height = 2**0.5\n",
    "hex_size_meters = np.diff(lat_range) * 111e3 / n_hex / hex_height"
   ]
  },
  {
   "cell_type": "code",
   "execution_count": 4,
   "metadata": {},
   "outputs": [
    {
     "name": "stderr",
     "output_type": "stream",
     "text": [
      "/home/fkirch/anaconda3/lib/python3.11/site-packages/pyproj/crs/crs.py:141: FutureWarning: '+init=<authority>:<code>' syntax is deprecated. '<authority>:<code>' is the preferred initialization method. When making the change, be mindful of axis order changes: https://pyproj4.github.io/pyproj/stable/gotchas.html#axis-order-changes-in-proj-6\n",
      "  in_crs_string = _prepare_from_proj_string(in_crs_string)\n"
     ]
    }
   ],
   "source": [
    "hex_proj = HexProj(\n",
    "    lon_origin=np.mean(lon_range),\n",
    "    lat_origin=np.mean(lat_range),\n",
    "    hex_size_meters=hex_size_meters\n",
    ")"
   ]
  },
  {
   "cell_type": "code",
   "execution_count": 5,
   "metadata": {},
   "outputs": [
    {
     "name": "stderr",
     "output_type": "stream",
     "text": [
      "/home/fkirch/anaconda3/lib/python3.11/site-packages/hextraj/redblobhex_array.py:98: RuntimeWarning: invalid value encountered in cast\n",
      "  qi = np.round_(hex.q).astype(int)\n",
      "/home/fkirch/anaconda3/lib/python3.11/site-packages/hextraj/redblobhex_array.py:99: RuntimeWarning: invalid value encountered in cast\n",
      "  ri = np.round_(hex.r).astype(int)\n",
      "/home/fkirch/anaconda3/lib/python3.11/site-packages/hextraj/redblobhex_array.py:100: RuntimeWarning: invalid value encountered in cast\n",
      "  si = np.round_(hex.s).astype(int)\n"
     ]
    }
   ],
   "source": [
    "hex_labels = xr.apply_ufunc(\n",
    "    hex_proj.lon_lat_to_hex_AoS,\n",
    "    ds_traj.lon, \n",
    "    ds_traj.lat,\n",
    "    dask=\"parallelized\",\n",
    "    output_dtypes=[tuple, ],\n",
    ").rename(\"hex_labels\")"
   ]
  },
  {
   "cell_type": "code",
   "execution_count": 6,
   "metadata": {},
   "outputs": [],
   "source": [
    "unique_hex_labels = np.unique(hex_labels)\n",
    "corners = hex_proj.hex_corners_lon_lat_AoS(unique_hex_labels)"
   ]
  },
  {
   "cell_type": "code",
   "execution_count": 7,
   "metadata": {},
   "outputs": [],
   "source": [
    "hex_polygons = [\n",
    "    shapely.geometry.Polygon(corners) for corners in np.array(corners).T[1:]\n",
    "]\n",
    "hex_lons, hex_lats = np.array(\n",
    "    [hex_proj.hex_to_lon_lat_SoA(hex) for hex in unique_hex_labels[1:]]\n",
    ").T.squeeze().astype(float)\n",
    "ids = np.arange(len(hex_polygons)).astype(int)\n",
    "depth = np.random.randint(10, 1000, len(hex_polygons)).astype(int)\n",
    "disease = np.array(random.choices([0, 1], k=len(hex_polygons))).astype(int)\n",
    "rest = np.array(random.choices([0, 1], k=len(hex_polygons))).astype(int)\n",
    "substrate = np.array(random.choices([\"A\", \"B\", \"C\"], k=len(hex_polygons))).astype(str)"
   ]
  },
  {
   "cell_type": "code",
   "execution_count": 8,
   "metadata": {},
   "outputs": [],
   "source": [
    "def create_connections(ids, n_connections):\n",
    "    to_IDs = np.array(random.sample(list(ids), k=np.random.randint(1, int(n_connections))))\n",
    "    weights = np.random.uniform(size=len(to_IDs))\n",
    "    weights = weights / sum(weights)\n",
    "    return dict(zip(to_IDs.astype(str), weights.astype(float)))\n",
    "    # return to_IDs.astype(int), weights.astype(float)\n",
    "\n",
    "# connectivity = []\n",
    "# for i in range(len(hex_polygons)):\n",
    "#     to_IDs, weights = create_connections(ids, len(hex_polygons))\n",
    "#     connectivity.append({\"toID\": to_IDs.tolist(), \"weight\": weights.tolist()})\n",
    "\n",
    "connectivity = [create_connections(ids, len(hex_polygons)/3) for i in range(len(hex_polygons))]"
   ]
  },
  {
   "cell_type": "code",
   "execution_count": 9,
   "metadata": {},
   "outputs": [],
   "source": [
    "features = gpd.GeoDataFrame(\n",
    "    data={\n",
    "        \"id\": ids,\n",
    "        \"lon\": hex_lons,\n",
    "        \"lat\": hex_lats,\n",
    "        \"depth\": depth,\n",
    "        \"disease\": disease,\n",
    "        \"rest\": rest,\n",
    "        \"substrate\": substrate,\n",
    "        \"connectivity\": connectivity\n",
    "    },\n",
    "    geometry=hex_polygons\n",
    ")\n",
    "\n",
    "features.to_file('hex_features.geojson', driver='GeoJSON')"
   ]
  },
  {
   "cell_type": "code",
   "execution_count": null,
   "metadata": {},
   "outputs": [],
   "source": []
  }
 ],
 "metadata": {
  "kernelspec": {
   "display_name": "base",
   "language": "python",
   "name": "python3"
  },
  "language_info": {
   "codemirror_mode": {
    "name": "ipython",
    "version": 3
   },
   "file_extension": ".py",
   "mimetype": "text/x-python",
   "name": "python",
   "nbconvert_exporter": "python",
   "pygments_lexer": "ipython3",
   "version": "3.11.5"
  }
 },
 "nbformat": 4,
 "nbformat_minor": 2
}
